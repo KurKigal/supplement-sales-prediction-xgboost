{
 "cells": [
  {
   "cell_type": "markdown",
   "id": "efd197f0",
   "metadata": {
    "papermill": {
     "duration": 0.003653,
     "end_time": "2025-04-29T18:40:33.079401",
     "exception": false,
     "start_time": "2025-04-29T18:40:33.075748",
     "status": "completed"
    },
    "tags": []
   },
   "source": [
    "# 📈 Predicting Supplement Sales Revenue using XGBoost\n",
    "This notebook demonstrates how to build a regression model to predict supplement sales revenue based on product and marketing data."
   ]
  },
  {
   "cell_type": "markdown",
   "id": "74c5f609",
   "metadata": {
    "papermill": {
     "duration": 0.002787,
     "end_time": "2025-04-29T18:40:33.085545",
     "exception": false,
     "start_time": "2025-04-29T18:40:33.082758",
     "status": "completed"
    },
    "tags": []
   },
   "source": [
    "## 1. Introduction\n",
    "We will use XGBoost, a powerful machine learning algorithm, to predict the **Revenue** based on features such as **Units Sold**, **Price**, **Discount**, etc."
   ]
  },
  {
   "cell_type": "markdown",
   "id": "58b34bea",
   "metadata": {
    "papermill": {
     "duration": 0.002679,
     "end_time": "2025-04-29T18:40:33.091078",
     "exception": false,
     "start_time": "2025-04-29T18:40:33.088399",
     "status": "completed"
    },
    "tags": []
   },
   "source": [
    "## 2. Import Libraries\n",
    "Let's import the required Python libraries."
   ]
  },
  {
   "cell_type": "code",
   "execution_count": 1,
   "id": "bd80be78",
   "metadata": {
    "execution": {
     "iopub.execute_input": "2025-04-29T18:40:33.098316Z",
     "iopub.status.busy": "2025-04-29T18:40:33.097930Z",
     "iopub.status.idle": "2025-04-29T18:40:37.465520Z",
     "shell.execute_reply": "2025-04-29T18:40:37.464520Z"
    },
    "papermill": {
     "duration": 4.373382,
     "end_time": "2025-04-29T18:40:37.467344",
     "exception": false,
     "start_time": "2025-04-29T18:40:33.093962",
     "status": "completed"
    },
    "tags": []
   },
   "outputs": [],
   "source": [
    "import pandas as pd\n",
    "import numpy as np\n",
    "import matplotlib.pyplot as plt\n",
    "import seaborn as sns\n",
    "from xgboost import XGBRegressor\n",
    "from sklearn.model_selection import train_test_split\n",
    "from sklearn.metrics import mean_absolute_error, mean_squared_error, r2_score\n",
    "import warnings\n",
    "warnings.filterwarnings('ignore')"
   ]
  },
  {
   "cell_type": "markdown",
   "id": "41cdbe74",
   "metadata": {
    "papermill": {
     "duration": 0.002705,
     "end_time": "2025-04-29T18:40:37.473287",
     "exception": false,
     "start_time": "2025-04-29T18:40:37.470582",
     "status": "completed"
    },
    "tags": []
   },
   "source": [
    "## 3. Load Dataset\n",
    "Now, let's load the dataset."
   ]
  },
  {
   "cell_type": "code",
   "execution_count": 2,
   "id": "220ea721",
   "metadata": {
    "execution": {
     "iopub.execute_input": "2025-04-29T18:40:37.480768Z",
     "iopub.status.busy": "2025-04-29T18:40:37.480241Z",
     "iopub.status.idle": "2025-04-29T18:40:37.546741Z",
     "shell.execute_reply": "2025-04-29T18:40:37.545764Z"
    },
    "papermill": {
     "duration": 0.071774,
     "end_time": "2025-04-29T18:40:37.548122",
     "exception": false,
     "start_time": "2025-04-29T18:40:37.476348",
     "status": "completed"
    },
    "tags": []
   },
   "outputs": [
    {
     "data": {
      "text/html": [
       "<div>\n",
       "<style scoped>\n",
       "    .dataframe tbody tr th:only-of-type {\n",
       "        vertical-align: middle;\n",
       "    }\n",
       "\n",
       "    .dataframe tbody tr th {\n",
       "        vertical-align: top;\n",
       "    }\n",
       "\n",
       "    .dataframe thead th {\n",
       "        text-align: right;\n",
       "    }\n",
       "</style>\n",
       "<table border=\"1\" class=\"dataframe\">\n",
       "  <thead>\n",
       "    <tr style=\"text-align: right;\">\n",
       "      <th></th>\n",
       "      <th>Date</th>\n",
       "      <th>Product Name</th>\n",
       "      <th>Category</th>\n",
       "      <th>Units Sold</th>\n",
       "      <th>Price</th>\n",
       "      <th>Revenue</th>\n",
       "      <th>Discount</th>\n",
       "      <th>Units Returned</th>\n",
       "      <th>Location</th>\n",
       "      <th>Platform</th>\n",
       "    </tr>\n",
       "  </thead>\n",
       "  <tbody>\n",
       "    <tr>\n",
       "      <th>0</th>\n",
       "      <td>2020-01-06</td>\n",
       "      <td>Whey Protein</td>\n",
       "      <td>Protein</td>\n",
       "      <td>143</td>\n",
       "      <td>31.98</td>\n",
       "      <td>4573.14</td>\n",
       "      <td>0.03</td>\n",
       "      <td>2</td>\n",
       "      <td>Canada</td>\n",
       "      <td>Walmart</td>\n",
       "    </tr>\n",
       "    <tr>\n",
       "      <th>1</th>\n",
       "      <td>2020-01-06</td>\n",
       "      <td>Vitamin C</td>\n",
       "      <td>Vitamin</td>\n",
       "      <td>139</td>\n",
       "      <td>42.51</td>\n",
       "      <td>5908.89</td>\n",
       "      <td>0.04</td>\n",
       "      <td>0</td>\n",
       "      <td>UK</td>\n",
       "      <td>Amazon</td>\n",
       "    </tr>\n",
       "    <tr>\n",
       "      <th>2</th>\n",
       "      <td>2020-01-06</td>\n",
       "      <td>Fish Oil</td>\n",
       "      <td>Omega</td>\n",
       "      <td>161</td>\n",
       "      <td>12.91</td>\n",
       "      <td>2078.51</td>\n",
       "      <td>0.25</td>\n",
       "      <td>0</td>\n",
       "      <td>Canada</td>\n",
       "      <td>Amazon</td>\n",
       "    </tr>\n",
       "    <tr>\n",
       "      <th>3</th>\n",
       "      <td>2020-01-06</td>\n",
       "      <td>Multivitamin</td>\n",
       "      <td>Vitamin</td>\n",
       "      <td>140</td>\n",
       "      <td>16.07</td>\n",
       "      <td>2249.80</td>\n",
       "      <td>0.08</td>\n",
       "      <td>0</td>\n",
       "      <td>Canada</td>\n",
       "      <td>Walmart</td>\n",
       "    </tr>\n",
       "    <tr>\n",
       "      <th>4</th>\n",
       "      <td>2020-01-06</td>\n",
       "      <td>Pre-Workout</td>\n",
       "      <td>Performance</td>\n",
       "      <td>157</td>\n",
       "      <td>35.47</td>\n",
       "      <td>5568.79</td>\n",
       "      <td>0.25</td>\n",
       "      <td>3</td>\n",
       "      <td>Canada</td>\n",
       "      <td>iHerb</td>\n",
       "    </tr>\n",
       "  </tbody>\n",
       "</table>\n",
       "</div>"
      ],
      "text/plain": [
       "         Date  Product Name     Category  Units Sold  Price  Revenue  \\\n",
       "0  2020-01-06  Whey Protein      Protein         143  31.98  4573.14   \n",
       "1  2020-01-06     Vitamin C      Vitamin         139  42.51  5908.89   \n",
       "2  2020-01-06      Fish Oil        Omega         161  12.91  2078.51   \n",
       "3  2020-01-06  Multivitamin      Vitamin         140  16.07  2249.80   \n",
       "4  2020-01-06   Pre-Workout  Performance         157  35.47  5568.79   \n",
       "\n",
       "   Discount  Units Returned Location Platform  \n",
       "0      0.03               2   Canada  Walmart  \n",
       "1      0.04               0       UK   Amazon  \n",
       "2      0.25               0   Canada   Amazon  \n",
       "3      0.08               0   Canada  Walmart  \n",
       "4      0.25               3   Canada    iHerb  "
      ]
     },
     "execution_count": 2,
     "metadata": {},
     "output_type": "execute_result"
    }
   ],
   "source": [
    "df = pd.read_csv('/kaggle/input/supplement-sales-data/Supplement_Sales_Weekly_Expanded.csv')\n",
    "df.head()"
   ]
  },
  {
   "cell_type": "markdown",
   "id": "bbea4737",
   "metadata": {
    "papermill": {
     "duration": 0.002946,
     "end_time": "2025-04-29T18:40:37.554651",
     "exception": false,
     "start_time": "2025-04-29T18:40:37.551705",
     "status": "completed"
    },
    "tags": []
   },
   "source": [
    "## 4. Exploratory Data Analysis (EDA)\n",
    "Let's quickly inspect the dataset."
   ]
  },
  {
   "cell_type": "code",
   "execution_count": 3,
   "id": "bf7a7189",
   "metadata": {
    "execution": {
     "iopub.execute_input": "2025-04-29T18:40:37.562116Z",
     "iopub.status.busy": "2025-04-29T18:40:37.561843Z",
     "iopub.status.idle": "2025-04-29T18:40:37.605223Z",
     "shell.execute_reply": "2025-04-29T18:40:37.603966Z"
    },
    "papermill": {
     "duration": 0.049176,
     "end_time": "2025-04-29T18:40:37.606993",
     "exception": false,
     "start_time": "2025-04-29T18:40:37.557817",
     "status": "completed"
    },
    "tags": []
   },
   "outputs": [
    {
     "name": "stdout",
     "output_type": "stream",
     "text": [
      "<class 'pandas.core.frame.DataFrame'>\n",
      "RangeIndex: 4384 entries, 0 to 4383\n",
      "Data columns (total 10 columns):\n",
      " #   Column          Non-Null Count  Dtype  \n",
      "---  ------          --------------  -----  \n",
      " 0   Date            4384 non-null   object \n",
      " 1   Product Name    4384 non-null   object \n",
      " 2   Category        4384 non-null   object \n",
      " 3   Units Sold      4384 non-null   int64  \n",
      " 4   Price           4384 non-null   float64\n",
      " 5   Revenue         4384 non-null   float64\n",
      " 6   Discount        4384 non-null   float64\n",
      " 7   Units Returned  4384 non-null   int64  \n",
      " 8   Location        4384 non-null   object \n",
      " 9   Platform        4384 non-null   object \n",
      "dtypes: float64(3), int64(2), object(5)\n",
      "memory usage: 342.6+ KB\n",
      "None\n",
      "        Units Sold        Price       Revenue     Discount  Units Returned\n",
      "count  4384.000000  4384.000000   4384.000000  4384.000000     4384.000000\n",
      "mean    150.200274    34.781229   5226.569446     0.124398        1.531478\n",
      "std      12.396099    14.198309   2192.491946     0.071792        1.258479\n",
      "min     103.000000    10.000000   1284.000000     0.000000        0.000000\n",
      "25%     142.000000    22.597500   3349.372500     0.060000        1.000000\n",
      "50%     150.000000    34.720000   5173.140000     0.120000        1.000000\n",
      "75%     158.000000    46.712500   7009.960000     0.190000        2.000000\n",
      "max     194.000000    59.970000  10761.850000     0.250000        8.000000\n"
     ]
    },
    {
     "data": {
      "text/plain": [
       "Date              0\n",
       "Product Name      0\n",
       "Category          0\n",
       "Units Sold        0\n",
       "Price             0\n",
       "Revenue           0\n",
       "Discount          0\n",
       "Units Returned    0\n",
       "Location          0\n",
       "Platform          0\n",
       "dtype: int64"
      ]
     },
     "execution_count": 3,
     "metadata": {},
     "output_type": "execute_result"
    }
   ],
   "source": [
    "print(df.info())\n",
    "print(df.describe())\n",
    "df.isnull().sum()"
   ]
  },
  {
   "cell_type": "markdown",
   "id": "902729c6",
   "metadata": {
    "papermill": {
     "duration": 0.003221,
     "end_time": "2025-04-29T18:40:37.613804",
     "exception": false,
     "start_time": "2025-04-29T18:40:37.610583",
     "status": "completed"
    },
    "tags": []
   },
   "source": [
    "## 5. Data Preprocessing\n",
    "We will perform basic preprocessing like encoding categorical features."
   ]
  },
  {
   "cell_type": "code",
   "execution_count": 4,
   "id": "67515dea",
   "metadata": {
    "execution": {
     "iopub.execute_input": "2025-04-29T18:40:37.622626Z",
     "iopub.status.busy": "2025-04-29T18:40:37.621794Z",
     "iopub.status.idle": "2025-04-29T18:40:37.641716Z",
     "shell.execute_reply": "2025-04-29T18:40:37.640683Z"
    },
    "papermill": {
     "duration": 0.026166,
     "end_time": "2025-04-29T18:40:37.643286",
     "exception": false,
     "start_time": "2025-04-29T18:40:37.617120",
     "status": "completed"
    },
    "tags": []
   },
   "outputs": [],
   "source": [
    "# Encode categorical features\n",
    "df_encoded = pd.get_dummies(df, columns=['Category', 'Location', 'Platform'], drop_first=True)\n",
    "\n",
    "# Define features and target\n",
    "X = df_encoded.drop(['Revenue', 'Date', 'Product Name'], axis=1)\n",
    "y = df_encoded['Revenue']\n",
    "\n",
    "# Split into training and testing sets\n",
    "X_train, X_test, y_train, y_test = train_test_split(X, y, test_size=0.2, random_state=42)"
   ]
  },
  {
   "cell_type": "markdown",
   "id": "f56898c0",
   "metadata": {
    "papermill": {
     "duration": 0.003157,
     "end_time": "2025-04-29T18:40:37.649983",
     "exception": false,
     "start_time": "2025-04-29T18:40:37.646826",
     "status": "completed"
    },
    "tags": []
   },
   "source": [
    "## 6. Model Training\n",
    "Let's train an XGBoost Regressor."
   ]
  },
  {
   "cell_type": "code",
   "execution_count": 5,
   "id": "09b2cbcc",
   "metadata": {
    "execution": {
     "iopub.execute_input": "2025-04-29T18:40:37.658159Z",
     "iopub.status.busy": "2025-04-29T18:40:37.657403Z",
     "iopub.status.idle": "2025-04-29T18:40:37.810844Z",
     "shell.execute_reply": "2025-04-29T18:40:37.810105Z"
    },
    "papermill": {
     "duration": 0.159233,
     "end_time": "2025-04-29T18:40:37.812542",
     "exception": false,
     "start_time": "2025-04-29T18:40:37.653309",
     "status": "completed"
    },
    "tags": []
   },
   "outputs": [
    {
     "data": {
      "text/html": [
       "<style>#sk-container-id-1 {color: black;background-color: white;}#sk-container-id-1 pre{padding: 0;}#sk-container-id-1 div.sk-toggleable {background-color: white;}#sk-container-id-1 label.sk-toggleable__label {cursor: pointer;display: block;width: 100%;margin-bottom: 0;padding: 0.3em;box-sizing: border-box;text-align: center;}#sk-container-id-1 label.sk-toggleable__label-arrow:before {content: \"▸\";float: left;margin-right: 0.25em;color: #696969;}#sk-container-id-1 label.sk-toggleable__label-arrow:hover:before {color: black;}#sk-container-id-1 div.sk-estimator:hover label.sk-toggleable__label-arrow:before {color: black;}#sk-container-id-1 div.sk-toggleable__content {max-height: 0;max-width: 0;overflow: hidden;text-align: left;background-color: #f0f8ff;}#sk-container-id-1 div.sk-toggleable__content pre {margin: 0.2em;color: black;border-radius: 0.25em;background-color: #f0f8ff;}#sk-container-id-1 input.sk-toggleable__control:checked~div.sk-toggleable__content {max-height: 200px;max-width: 100%;overflow: auto;}#sk-container-id-1 input.sk-toggleable__control:checked~label.sk-toggleable__label-arrow:before {content: \"▾\";}#sk-container-id-1 div.sk-estimator input.sk-toggleable__control:checked~label.sk-toggleable__label {background-color: #d4ebff;}#sk-container-id-1 div.sk-label input.sk-toggleable__control:checked~label.sk-toggleable__label {background-color: #d4ebff;}#sk-container-id-1 input.sk-hidden--visually {border: 0;clip: rect(1px 1px 1px 1px);clip: rect(1px, 1px, 1px, 1px);height: 1px;margin: -1px;overflow: hidden;padding: 0;position: absolute;width: 1px;}#sk-container-id-1 div.sk-estimator {font-family: monospace;background-color: #f0f8ff;border: 1px dotted black;border-radius: 0.25em;box-sizing: border-box;margin-bottom: 0.5em;}#sk-container-id-1 div.sk-estimator:hover {background-color: #d4ebff;}#sk-container-id-1 div.sk-parallel-item::after {content: \"\";width: 100%;border-bottom: 1px solid gray;flex-grow: 1;}#sk-container-id-1 div.sk-label:hover label.sk-toggleable__label {background-color: #d4ebff;}#sk-container-id-1 div.sk-serial::before {content: \"\";position: absolute;border-left: 1px solid gray;box-sizing: border-box;top: 0;bottom: 0;left: 50%;z-index: 0;}#sk-container-id-1 div.sk-serial {display: flex;flex-direction: column;align-items: center;background-color: white;padding-right: 0.2em;padding-left: 0.2em;position: relative;}#sk-container-id-1 div.sk-item {position: relative;z-index: 1;}#sk-container-id-1 div.sk-parallel {display: flex;align-items: stretch;justify-content: center;background-color: white;position: relative;}#sk-container-id-1 div.sk-item::before, #sk-container-id-1 div.sk-parallel-item::before {content: \"\";position: absolute;border-left: 1px solid gray;box-sizing: border-box;top: 0;bottom: 0;left: 50%;z-index: -1;}#sk-container-id-1 div.sk-parallel-item {display: flex;flex-direction: column;z-index: 1;position: relative;background-color: white;}#sk-container-id-1 div.sk-parallel-item:first-child::after {align-self: flex-end;width: 50%;}#sk-container-id-1 div.sk-parallel-item:last-child::after {align-self: flex-start;width: 50%;}#sk-container-id-1 div.sk-parallel-item:only-child::after {width: 0;}#sk-container-id-1 div.sk-dashed-wrapped {border: 1px dashed gray;margin: 0 0.4em 0.5em 0.4em;box-sizing: border-box;padding-bottom: 0.4em;background-color: white;}#sk-container-id-1 div.sk-label label {font-family: monospace;font-weight: bold;display: inline-block;line-height: 1.2em;}#sk-container-id-1 div.sk-label-container {text-align: center;}#sk-container-id-1 div.sk-container {/* jupyter's `normalize.less` sets `[hidden] { display: none; }` but bootstrap.min.css set `[hidden] { display: none !important; }` so we also need the `!important` here to be able to override the default hidden behavior on the sphinx rendered scikit-learn.org. See: https://github.com/scikit-learn/scikit-learn/issues/21755 */display: inline-block !important;position: relative;}#sk-container-id-1 div.sk-text-repr-fallback {display: none;}</style><div id=\"sk-container-id-1\" class=\"sk-top-container\"><div class=\"sk-text-repr-fallback\"><pre>XGBRegressor(base_score=None, booster=None, callbacks=None,\n",
       "             colsample_bylevel=None, colsample_bynode=None,\n",
       "             colsample_bytree=None, device=None, early_stopping_rounds=None,\n",
       "             enable_categorical=False, eval_metric=None, feature_types=None,\n",
       "             gamma=None, grow_policy=None, importance_type=None,\n",
       "             interaction_constraints=None, learning_rate=None, max_bin=None,\n",
       "             max_cat_threshold=None, max_cat_to_onehot=None,\n",
       "             max_delta_step=None, max_depth=None, max_leaves=None,\n",
       "             min_child_weight=None, missing=nan, monotone_constraints=None,\n",
       "             multi_strategy=None, n_estimators=None, n_jobs=None,\n",
       "             num_parallel_tree=None, random_state=42, ...)</pre><b>In a Jupyter environment, please rerun this cell to show the HTML representation or trust the notebook. <br />On GitHub, the HTML representation is unable to render, please try loading this page with nbviewer.org.</b></div><div class=\"sk-container\" hidden><div class=\"sk-item\"><div class=\"sk-estimator sk-toggleable\"><input class=\"sk-toggleable__control sk-hidden--visually\" id=\"sk-estimator-id-1\" type=\"checkbox\" checked><label for=\"sk-estimator-id-1\" class=\"sk-toggleable__label sk-toggleable__label-arrow\">XGBRegressor</label><div class=\"sk-toggleable__content\"><pre>XGBRegressor(base_score=None, booster=None, callbacks=None,\n",
       "             colsample_bylevel=None, colsample_bynode=None,\n",
       "             colsample_bytree=None, device=None, early_stopping_rounds=None,\n",
       "             enable_categorical=False, eval_metric=None, feature_types=None,\n",
       "             gamma=None, grow_policy=None, importance_type=None,\n",
       "             interaction_constraints=None, learning_rate=None, max_bin=None,\n",
       "             max_cat_threshold=None, max_cat_to_onehot=None,\n",
       "             max_delta_step=None, max_depth=None, max_leaves=None,\n",
       "             min_child_weight=None, missing=nan, monotone_constraints=None,\n",
       "             multi_strategy=None, n_estimators=None, n_jobs=None,\n",
       "             num_parallel_tree=None, random_state=42, ...)</pre></div></div></div></div></div>"
      ],
      "text/plain": [
       "XGBRegressor(base_score=None, booster=None, callbacks=None,\n",
       "             colsample_bylevel=None, colsample_bynode=None,\n",
       "             colsample_bytree=None, device=None, early_stopping_rounds=None,\n",
       "             enable_categorical=False, eval_metric=None, feature_types=None,\n",
       "             gamma=None, grow_policy=None, importance_type=None,\n",
       "             interaction_constraints=None, learning_rate=None, max_bin=None,\n",
       "             max_cat_threshold=None, max_cat_to_onehot=None,\n",
       "             max_delta_step=None, max_depth=None, max_leaves=None,\n",
       "             min_child_weight=None, missing=nan, monotone_constraints=None,\n",
       "             multi_strategy=None, n_estimators=None, n_jobs=None,\n",
       "             num_parallel_tree=None, random_state=42, ...)"
      ]
     },
     "execution_count": 5,
     "metadata": {},
     "output_type": "execute_result"
    }
   ],
   "source": [
    "model = XGBRegressor(random_state=42)\n",
    "model.fit(X_train, y_train)"
   ]
  },
  {
   "cell_type": "markdown",
   "id": "b5b7ac43",
   "metadata": {
    "papermill": {
     "duration": 0.00365,
     "end_time": "2025-04-29T18:40:37.820264",
     "exception": false,
     "start_time": "2025-04-29T18:40:37.816614",
     "status": "completed"
    },
    "tags": []
   },
   "source": [
    "## 7. Model Evaluation\n",
    "Now, let's evaluate the model using common regression metrics."
   ]
  },
  {
   "cell_type": "code",
   "execution_count": 6,
   "id": "426e349f",
   "metadata": {
    "execution": {
     "iopub.execute_input": "2025-04-29T18:40:37.829018Z",
     "iopub.status.busy": "2025-04-29T18:40:37.828209Z",
     "iopub.status.idle": "2025-04-29T18:40:37.845130Z",
     "shell.execute_reply": "2025-04-29T18:40:37.844239Z"
    },
    "papermill": {
     "duration": 0.023187,
     "end_time": "2025-04-29T18:40:37.847025",
     "exception": false,
     "start_time": "2025-04-29T18:40:37.823838",
     "status": "completed"
    },
    "tags": []
   },
   "outputs": [
    {
     "name": "stdout",
     "output_type": "stream",
     "text": [
      "Mean Absolute Error (MAE): 36.74\n",
      "Mean Squared Error (MSE): 2800.85\n",
      "Root Mean Squared Error (RMSE): 52.92\n",
      "R2 Score (Accuracy for regression): 99.94%\n"
     ]
    }
   ],
   "source": [
    "# Make predictions\n",
    "y_pred = model.predict(X_test)\n",
    "\n",
    "# Evaluation metrics\n",
    "mae = mean_absolute_error(y_test, y_pred)\n",
    "mse = mean_squared_error(y_test, y_pred)\n",
    "rmse = np.sqrt(mse)\n",
    "r2 = r2_score(y_test, y_pred)\n",
    "\n",
    "print(f\"Mean Absolute Error (MAE): {mae:.2f}\")\n",
    "print(f\"Mean Squared Error (MSE): {mse:.2f}\")\n",
    "print(f\"Root Mean Squared Error (RMSE): {rmse:.2f}\")\n",
    "print(f\"R2 Score (Accuracy for regression): {r2:.2%}\")"
   ]
  },
  {
   "cell_type": "markdown",
   "id": "31dcf395",
   "metadata": {
    "papermill": {
     "duration": 0.004487,
     "end_time": "2025-04-29T18:40:37.856606",
     "exception": false,
     "start_time": "2025-04-29T18:40:37.852119",
     "status": "completed"
    },
    "tags": []
   },
   "source": [
    "## 8. Feature Importance\n",
    "Let's visualize which features were most important."
   ]
  },
  {
   "cell_type": "code",
   "execution_count": 7,
   "id": "43150932",
   "metadata": {
    "execution": {
     "iopub.execute_input": "2025-04-29T18:40:37.865318Z",
     "iopub.status.busy": "2025-04-29T18:40:37.865021Z",
     "iopub.status.idle": "2025-04-29T18:40:38.150180Z",
     "shell.execute_reply": "2025-04-29T18:40:38.149274Z"
    },
    "papermill": {
     "duration": 0.291441,
     "end_time": "2025-04-29T18:40:38.151835",
     "exception": false,
     "start_time": "2025-04-29T18:40:37.860394",
     "status": "completed"
    },
    "tags": []
   },
   "outputs": [
    {
     "data": {
      "image/png": "[encoded data removed]",
      "text/plain": [
       "<Figure size 1000x600 with 1 Axes>"
      ]
     },
     "metadata": {},
     "output_type": "display_data"
    }
   ],
   "source": [
    "# Plot feature importances\n",
    "importances = model.feature_importances_\n",
    "indices = np.argsort(importances)[-10:]\n",
    "\n",
    "plt.figure(figsize=(10,6))\n",
    "plt.title('Top 10 Feature Importances')\n",
    "plt.barh(range(len(indices)), importances[indices], align='center')\n",
    "plt.yticks(range(len(indices)), [X.columns[i] for i in indices])\n",
    "plt.xlabel('Relative Importance')\n",
    "plt.show()"
   ]
  },
  {
   "cell_type": "markdown",
   "id": "45696e8f",
   "metadata": {
    "papermill": {
     "duration": 0.004319,
     "end_time": "2025-04-29T18:40:38.161307",
     "exception": false,
     "start_time": "2025-04-29T18:40:38.156988",
     "status": "completed"
    },
    "tags": []
   },
   "source": [
    "## 9. Conclusion\n",
    "We successfully trained an XGBoost model to predict supplement sales revenue with good accuracy. Further tuning and feature engineering could improve performance even more."
   ]
  }
 ],
 "metadata": {
  "kaggle": {
   "accelerator": "none",
   "dataSources": [
    {
     "datasetId": 7116628,
     "sourceId": 11368723,
     "sourceType": "datasetVersion"
    }
   ],
   "dockerImageVersionId": 31012,
   "isGpuEnabled": false,
   "isInternetEnabled": true,
   "language": "python",
   "sourceType": "notebook"
  },
  "kernelspec": {
   "display_name": "Python 3",
   "language": "python",
   "name": "python3"
  },
  "language_info": {
   "codemirror_mode": {
    "name": "ipython",
    "version": 3
   },
   "file_extension": ".py",
   "mimetype": "text/x-python",
   "name": "python",
   "nbconvert_exporter": "python",
   "pygments_lexer": "ipython3",
   "version": "3.11.11"
  },
  "papermill": {
   "default_parameters": {},
   "duration": 10.553676,
   "end_time": "2025-04-29T18:40:38.886826",
   "environment_variables": {},
   "exception": null,
   "input_path": "__notebook__.ipynb",
   "output_path": "__notebook__.ipynb",
   "parameters": {},
   "start_time": "2025-04-29T18:40:28.333150",
   "version": "2.6.0"
  }
 },
 "nbformat": 4,
 "nbformat_minor": 5
}
